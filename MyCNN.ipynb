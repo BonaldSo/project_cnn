{
  "cells": [
    {
      "cell_type": "markdown",
      "metadata": {
        "id": "view-in-github",
        "colab_type": "text"
      },
      "source": [
        "<a href=\"https://colab.research.google.com/github/BonaldSo/project_cnn/blob/main/MyCNN.ipynb\" target=\"_parent\"><img src=\"https://colab.research.google.com/assets/colab-badge.svg\" alt=\"Open In Colab\"/></a>"
      ]
    },
    {
      "cell_type": "code",
      "source": [
        "import numpy as np\n",
        "import matplotlib.pyplot as plt\n",
        "import torch\n",
        "import torch.nn as nn\n",
        "import torch.nn.functional as F\n",
        "import torchvision\n",
        "from torchvision import datasets\n",
        "import torchvision.transforms as transforms\n",
        "from torch.optim import Optimizer\n",
        "from torch.utils.data import DataLoader, random_split\n",
        "from tqdm import tqdm\n",
        "from typing import Tuple"
      ],
      "metadata": {
        "id": "bIfyXOkcM4-2"
      },
      "execution_count": null,
      "outputs": []
    },
    {
      "cell_type": "code",
      "source": [
        "def verify_conv2d():\n",
        "    x = torch.randn(1, 3, 32, 32)\n",
        "    in_channels = 3\n",
        "    out_channels = 16\n",
        "    kernel_size = 3\n",
        "    stride = 1\n",
        "    padding = 1\n",
        "\n",
        "\n",
        "    conv_pytorch = nn.Conv2d(in_channels, out_channels, kernel_size, stride, padding)\n",
        "    output_pytorch = conv_pytorch(x)\n",
        "\n",
        "    conv_custom = Conv2d(in_channels, out_channels, kernel_size, stride, padding)\n",
        "    conv_custom.weight.data = conv_pytorch.weight.data.clone()\n",
        "    conv_custom.bias.data = conv_pytorch.bias.data.clone()\n",
        "    output_custom = conv_custom(x)\n",
        "    difference = (output_pytorch - output_custom).abs().max()\n",
        "    return (difference < 1e-06).item()"
      ],
      "metadata": {
        "id": "eZyJtXZtIp6N"
      },
      "execution_count": null,
      "outputs": []
    },
    {
      "cell_type": "code",
      "source": [
        "@torch.no_grad\n",
        "def verify_dropout():\n",
        "    p = 0.8\n",
        "    n = int(1e5)\n",
        "    x = torch.randn(5)\n",
        "    weight = torch.randn(5)\n",
        "\n",
        "    y = torch.dot(x, weight)\n",
        "    print('x dot product weight', y)\n",
        "\n",
        "    dropout_pytorch = nn.Dropout(p)\n",
        "    dropout_custom = Dropout(p)\n",
        "\n",
        "    dropout_pytorch.eval()\n",
        "    dropout_custom.eval()\n",
        "\n",
        "    output_pytorch = torch.dot(weight, dropout_pytorch(x))\n",
        "    output_custom = torch.dot(weight, dropout_custom(x))\n",
        "    assert torch.allclose(output_pytorch, output_custom), \"The outputs are not the same in evaluation mode.\"\n",
        "\n",
        "    dropout_pytorch.train()\n",
        "    dropout_custom.train()\n",
        "\n",
        "    pytorch_dropout_train = torch.zeros_like(output_pytorch)\n",
        "    custom_dropout_train = torch.zeros_like(output_custom)\n",
        "\n",
        "    for _ in range(n):\n",
        "        x_hat = dropout_pytorch(x)\n",
        "        pytorch_dropout_train += torch.dot(x_hat, weight)\n",
        "        x_hat = dropout_custom(x)\n",
        "        custom_dropout_train += torch.dot(x_hat, weight)\n",
        "\n",
        "    pytorch_dropout_train /= n\n",
        "    custom_dropout_train /= n\n",
        "\n",
        "    print('Empirical mean of Pytorch Dropout result', pytorch_dropout_train)\n",
        "    print('Empirical mean of Custom Dropout result', custom_dropout_train)"
      ],
      "metadata": {
        "id": "IhOzASnGIy_d"
      },
      "execution_count": null,
      "outputs": []
    },
    {
      "cell_type": "code",
      "source": [
        "@torch.no_grad\n",
        "def verify_batchnorm():\n",
        "    x = torch.randn(2, 3, 4, 4)\n",
        "\n",
        "    num_features = x.shape[1]\n",
        "\n",
        "    custom_bn = BatchNorm2d(num_features, eps=1e-5, momentum=0.1)\n",
        "    pytorch_bn = nn.BatchNorm2d(num_features, eps=1e-5, momentum=0.1)\n",
        "\n",
        "    pytorch_bn.weight.data = custom_bn.weight.data.clone()\n",
        "    pytorch_bn.bias.data = custom_bn.bias.data.clone()\n",
        "    pytorch_bn.running_mean = custom_bn.running_mean.clone()\n",
        "    pytorch_bn.running_var = custom_bn.running_var.clone()\n",
        "\n",
        "    custom_bn.train()\n",
        "    pytorch_bn.train()\n",
        "\n",
        "    output_custom = custom_bn(x)\n",
        "    output_pytorch = pytorch_bn(x)\n",
        "    difference = (output_custom - output_pytorch).abs().max()\n",
        "    return (difference < 1e-06).item()"
      ],
      "metadata": {
        "id": "olB9uVEdJA8r"
      },
      "execution_count": null,
      "outputs": []
    },
    {
      "cell_type": "code",
      "source": [
        "@torch.no_grad\n",
        "def eval_accuracy(model, eval_loader, device):\n",
        "    model.eval()\n",
        "    n_correct = 0\n",
        "    n_total = 0\n",
        "    for imgs, labels in eval_loader:\n",
        "        imgs, labels = imgs.to(device), labels.to(device)\n",
        "        logits = model(imgs)\n",
        "        _, pred = torch.max(logits, 1)\n",
        "\n",
        "        n_correct += (pred == labels).sum().item()\n",
        "        n_total += len(labels)\n",
        "\n",
        "    return n_correct / n_total"
      ],
      "metadata": {
        "id": "WZajlqkLJcC0"
      },
      "execution_count": null,
      "outputs": []
    },
    {
      "cell_type": "code",
      "source": [
        "def plot_curves(train_error_rates, val_error_rates):\n",
        "    plt.figure(figsize=(10, 6))\n",
        "    epochs = range(1, len(train_error_rates) + 1)\n",
        "    plt.plot(epochs, train_error_rates, 'bo-', label='Training Error')\n",
        "    plt.plot(epochs, val_error_rates, 'ro-', label='Validation Error')\n",
        "    plt.title('Training and Validation Error Rates')\n",
        "    plt.xlabel('Epochs')\n",
        "    plt.ylabel('Error Rate')\n",
        "    plt.legend()\n",
        "    plt.grid(True)\n",
        "    plt.show()"
      ],
      "metadata": {
        "id": "gZ8GOvVyLTN9"
      },
      "execution_count": null,
      "outputs": []
    },
    {
      "cell_type": "code",
      "source": [
        "def imshow(img):\n",
        "    img = img / 2 + 0.5\n",
        "    npimg = img.numpy()\n",
        "    plt.imshow(np.transpose(npimg, (1, 2, 0)))\n",
        "\n",
        "classes = ['airplane', 'automobile', 'bird', 'cat', 'deer',\n",
        "           'dog', 'frog', 'horse', 'ship', 'truck']\n",
        "\n",
        "def show_batch(data_loader):\n",
        "    dataiter = iter(train_loader)\n",
        "    images, labels = next(dataiter)\n",
        "    fig = plt.figure(figsize=(25, 4))\n",
        "    for idx in range(20):\n",
        "        ax = fig.add_subplot(2, 10, idx+1, xticks=[], yticks=[])\n",
        "        imshow(images[idx])\n",
        "        ax.set_title(classes[labels[idx]])"
      ],
      "metadata": {
        "id": "WOUxM8HCLoNI"
      },
      "execution_count": null,
      "outputs": []
    },
    {
      "cell_type": "code",
      "source": [
        "device = torch.device(\"cuda\" if torch.cuda.is_available() else \"cpu\")\n",
        "torch.manual_seed(2024)"
      ],
      "metadata": {
        "id": "zaxPAE4wJQkK",
        "colab": {
          "base_uri": "https://localhost:8080/"
        },
        "outputId": "ac1f37e5-c732-472a-80ec-ba0f11c7f184"
      },
      "execution_count": null,
      "outputs": [
        {
          "output_type": "execute_result",
          "data": {
            "text/plain": [
              "<torch._C.Generator at 0x79960aecd490>"
            ]
          },
          "metadata": {},
          "execution_count": 8
        }
      ]
    },
    {
      "cell_type": "code",
      "source": [
        "batch_size = 128\n",
        "\n",
        "normalize = transforms.Normalize(mean=[0.485, 0.456, 0.406],\n",
        "                                 std=[0.229, 0.224, 0.225])\n",
        "\n",
        "transform = transforms.Compose([\n",
        "    transforms.RandomHorizontalFlip(),\n",
        "    transforms.RandomCrop(32, 4),\n",
        "    transforms.ToTensor(),\n",
        "    normalize,\n",
        "])\n",
        "\n",
        "\n",
        "train_data = datasets.CIFAR10('data', train=True,\n",
        "                              download=True, transform=transform)\n",
        "test_data = datasets.CIFAR10('data', train=False,\n",
        "                             download=True, transform=transform)"
      ],
      "metadata": {
        "id": "Avh2Gc1AJM8H",
        "colab": {
          "base_uri": "https://localhost:8080/"
        },
        "outputId": "b8ab6e24-dd37-490e-8a6d-e79968c0526f"
      },
      "execution_count": null,
      "outputs": [
        {
          "output_type": "stream",
          "name": "stdout",
          "text": [
            "Downloading https://www.cs.toronto.edu/~kriz/cifar-10-python.tar.gz to data/cifar-10-python.tar.gz\n"
          ]
        },
        {
          "output_type": "stream",
          "name": "stderr",
          "text": [
            "100%|██████████| 170498071/170498071 [00:04<00:00, 42518232.41it/s]\n"
          ]
        },
        {
          "output_type": "stream",
          "name": "stdout",
          "text": [
            "Extracting data/cifar-10-python.tar.gz to data\n",
            "Files already downloaded and verified\n"
          ]
        }
      ]
    },
    {
      "cell_type": "code",
      "source": [
        "def build_loaders(train_data: torch.utils.data.Dataset,\n",
        "                  test_data: torch.utils.data.Dataset,\n",
        "                  train_ratio: float=0.8,\n",
        "                  val_ratio: float=0.2,\n",
        "                  batch_size:int=batch_size) -> Tuple[DataLoader, DataLoader, DataLoader]:\n",
        "    \"\"\"\n",
        "    Args:\n",
        "    - train_data: CIFAR-10 train data\n",
        "    - test_data: CIFAR-10 test data\n",
        "    - train_ratio: ratio of training\n",
        "    - val_ratio: ratio of validation\n",
        "    - batch_size: Batch size\n",
        "    Returns:\n",
        "    - train_loader: Dataloader for training\n",
        "    - val_loader: Dataloader for validation\n",
        "    - test_loader: Dataloader for test\n",
        "    \"\"\"\n",
        "    # TODO: Random split CIFAR-10 train-validation sets\n",
        "    # TODO: Return train/val/test loaders\n",
        "    train = int(train_ratio * len(train_data))\n",
        "    val = len(train_data) - train\n",
        "    traind, vald = random_split(train_data, [train, val])\n",
        "    trl = DataLoader(traind, batch_size=batch_size, shuffle=True)\n",
        "    vl = DataLoader(vald, batch_size=batch_size, shuffle=True)\n",
        "    tel = DataLoader(test_data, batch_size=batch_size, shuffle=True)\n",
        "    return trl, vl, tel\n"
      ],
      "metadata": {
        "id": "dx555ITFyMnG"
      },
      "execution_count": null,
      "outputs": []
    },
    {
      "cell_type": "code",
      "source": [
        "train_loader, val_loader, test_loader = build_loaders(train_data, test_data)"
      ],
      "metadata": {
        "id": "44coe7-Czl36"
      },
      "execution_count": null,
      "outputs": []
    },
    {
      "cell_type": "markdown",
      "source": [
        "### Visualize a Batch of Training Data"
      ],
      "metadata": {
        "id": "rf4360OAMnts"
      }
    },
    {
      "cell_type": "code",
      "source": [
        "show_batch(train_loader)"
      ],
      "metadata": {
        "id": "47UhuMrGMnOZ",
        "colab": {
          "base_uri": "https://localhost:8080/",
          "height": 607
        },
        "outputId": "e5e587bd-f18f-4325-e831-be9661765320"
      },
      "execution_count": null,
      "outputs": [
        {
          "output_type": "stream",
          "name": "stderr",
          "text": [
            "WARNING:matplotlib.image:Clipping input data to the valid range for imshow with RGB data ([0..1] for floats or [0..255] for integers).\n",
            "WARNING:matplotlib.image:Clipping input data to the valid range for imshow with RGB data ([0..1] for floats or [0..255] for integers).\n",
            "WARNING:matplotlib.image:Clipping input data to the valid range for imshow with RGB data ([0..1] for floats or [0..255] for integers).\n",
            "WARNING:matplotlib.image:Clipping input data to the valid range for imshow with RGB data ([0..1] for floats or [0..255] for integers).\n",
            "WARNING:matplotlib.image:Clipping input data to the valid range for imshow with RGB data ([0..1] for floats or [0..255] for integers).\n",
            "WARNING:matplotlib.image:Clipping input data to the valid range for imshow with RGB data ([0..1] for floats or [0..255] for integers).\n",
            "WARNING:matplotlib.image:Clipping input data to the valid range for imshow with RGB data ([0..1] for floats or [0..255] for integers).\n",
            "WARNING:matplotlib.image:Clipping input data to the valid range for imshow with RGB data ([0..1] for floats or [0..255] for integers).\n",
            "WARNING:matplotlib.image:Clipping input data to the valid range for imshow with RGB data ([0..1] for floats or [0..255] for integers).\n",
            "WARNING:matplotlib.image:Clipping input data to the valid range for imshow with RGB data ([0..1] for floats or [0..255] for integers).\n",
            "WARNING:matplotlib.image:Clipping input data to the valid range for imshow with RGB data ([0..1] for floats or [0..255] for integers).\n",
            "WARNING:matplotlib.image:Clipping input data to the valid range for imshow with RGB data ([0..1] for floats or [0..255] for integers).\n",
            "WARNING:matplotlib.image:Clipping input data to the valid range for imshow with RGB data ([0..1] for floats or [0..255] for integers).\n",
            "WARNING:matplotlib.image:Clipping input data to the valid range for imshow with RGB data ([0..1] for floats or [0..255] for integers).\n",
            "WARNING:matplotlib.image:Clipping input data to the valid range for imshow with RGB data ([0..1] for floats or [0..255] for integers).\n",
            "WARNING:matplotlib.image:Clipping input data to the valid range for imshow with RGB data ([0..1] for floats or [0..255] for integers).\n",
            "WARNING:matplotlib.image:Clipping input data to the valid range for imshow with RGB data ([0..1] for floats or [0..255] for integers).\n",
            "WARNING:matplotlib.image:Clipping input data to the valid range for imshow with RGB data ([0..1] for floats or [0..255] for integers).\n",
            "WARNING:matplotlib.image:Clipping input data to the valid range for imshow with RGB data ([0..1] for floats or [0..255] for integers).\n",
            "WARNING:matplotlib.image:Clipping input data to the valid range for imshow with RGB data ([0..1] for floats or [0..255] for integers).\n"
          ]
        },
        {
          "output_type": "display_data",
          "data": {
            "text/plain": [
              "<Figure size 2500x400 with 20 Axes>"
            ],
            "image/png": "[encoded data removed]"
          },
          "metadata": {}
        }
      ]
    },
    {
      "cell_type": "code",
      "source": [
        "class Conv2d(nn.Module):\n",
        "    def __init__(self, in_channels, out_channels, kernel_size, stride=1, padding=0):\n",
        "        super(Conv2d, self).__init__()\n",
        "\n",
        "        assert in_channels > 0 and out_channels > 0 and kernel_size > 0\n",
        "        self.kernel_size = kernel_size\n",
        "        self.stride = stride\n",
        "        self.padding = padding\n",
        "        self.weight = nn.Parameter(torch.randn(out_channels, in_channels, kernel_size, kernel_size))\n",
        "        self.bias = nn.Parameter(torch.randn(out_channels))\n",
        "\n",
        "    def forward(self, x):\n",
        "        \"\"\"\n",
        "        Args:\n",
        "        - x: input tensor\n",
        "        Returns:\n",
        "        - output: convoluted tensor\n",
        "        \"\"\"\n",
        "        # TODO: 2D cross-correlation operator\n",
        "        bsize, _, inheight, inwidth = x.size()\n",
        "        outc, inc, kheight, kwidth = self.weight.size()\n",
        "        outheight = (inheight + 2 * self.padding - kheight) // self.stride + 1\n",
        "        outwidth = (inwidth + 2 * self.padding - kwidth) // self.stride + 1\n",
        "\n",
        "        xpad = nn.functional.pad(x, (self.padding, self.padding, self.padding, self.padding))\n",
        "        output = torch.zeros(bsize, outc, outheight, outwidth)\n",
        "        for b in range(0, bsize):\n",
        "            for c in range(0, outc):\n",
        "                for i in range(0, inheight):\n",
        "                    for j in range(0, inwidth):\n",
        "                        patch = xpad[b, :, i * self.stride: i * self.stride + kheight, j * self.stride: j * self.stride + kwidth]\n",
        "                        output[b, c, i, j] = torch.sum(patch * self.weight[c]) + self.bias[c]\n",
        "        return output\n",
        "\n"
      ],
      "metadata": {
        "id": "DnfpDVNmLPxn"
      },
      "execution_count": null,
      "outputs": []
    },
    {
      "cell_type": "code",
      "source": [
        "conv2d_passed = verify_conv2d()\n",
        "print('Passed conv2d test:', conv2d_passed)"
      ],
      "metadata": {
        "id": "cZOvdm6u5shj",
        "colab": {
          "base_uri": "https://localhost:8080/"
        },
        "outputId": "29084271-d2b7-4e3b-b3ce-66599cde93f4"
      },
      "execution_count": null,
      "outputs": [
        {
          "output_type": "stream",
          "name": "stdout",
          "text": [
            "Passed conv2d test: True\n"
          ]
        }
      ]
    },
    {
      "cell_type": "code",
      "source": [
        "class Dropout(nn.Module):\n",
        "    def __init__(self, p):\n",
        "        super(Dropout, self).__init__()\n",
        "        \"\"\"\n",
        "        Args:\n",
        "        - p: dropout rate\n",
        "        \"\"\"\n",
        "        assert p >= 0 and p <= 1\n",
        "        self.p = p\n",
        "\n",
        "    def forward(self, x):\n",
        "        \"\"\"\n",
        "        Args:\n",
        "        - x: input tensor\n",
        "        Returns:\n",
        "        - output: dropout tensor\n",
        "        \"\"\"\n",
        "        # TODO: Dropout layer\n",
        "        output = x.clone()\n",
        "        if self.training:\n",
        "            mask = (torch.rand_like(output) > self.p).float()\n",
        "            return mask * output / (1.0 - self.p)\n",
        "        else:\n",
        "            return output\n",
        "\n"
      ],
      "metadata": {
        "id": "dcGR65Q8lX90"
      },
      "execution_count": null,
      "outputs": []
    },
    {
      "cell_type": "code",
      "source": [
        "verify_dropout()"
      ],
      "metadata": {
        "id": "6crMyRFtKjQm",
        "colab": {
          "base_uri": "https://localhost:8080/"
        },
        "outputId": "cb517eba-3350-40c4-c53e-7c0eb1a4dd39"
      },
      "execution_count": null,
      "outputs": [
        {
          "output_type": "stream",
          "name": "stdout",
          "text": [
            "x dot product weight tensor(-1.7168)\n",
            "Empirical mean of Pytorch Dropout result tensor(-1.7178)\n",
            "Empirical mean of Custom Dropout result tensor(-1.7170)\n"
          ]
        }
      ]
    },
    {
      "cell_type": "code",
      "source": [
        "class BatchNorm2d(nn.Module):\n",
        "    def __init__(self, num_features, eps=1e-5, momentum=0.1):\n",
        "        super(BatchNorm2d, self).__init__()\n",
        "        self.num_features = num_features\n",
        "        self.eps = eps\n",
        "        self.momentum = momentum\n",
        "\n",
        "        self.weight = nn.Parameter(torch.ones(num_features))\n",
        "        self.bias = nn.Parameter(torch.zeros(num_features))\n",
        "\n",
        "        self.register_buffer('running_mean', torch.zeros(num_features))\n",
        "        self.register_buffer('running_var', torch.ones(num_features))\n",
        "\n",
        "        self.reset_parameters()\n",
        "\n",
        "    def reset_parameters(self):\n",
        "        self.running_mean.zero_()\n",
        "        self.running_var.fill_(1)\n",
        "        nn.init.uniform_(self.weight)\n",
        "        nn.init.zeros_(self.bias)\n",
        "\n",
        "    def forward(self, x):\n",
        "        if self.training:\n",
        "            # TODO: BatchNorm2d in training.\n",
        "            batch_mean = x.mean([0, 2, 3], keepdim=True)\n",
        "            batch_var = x.var([0, 2, 3], keepdim=True, unbiased=False)\n",
        "\n",
        "            # Update running statistics without in-place operations\n",
        "            self.running_mean = (1 - self.momentum) * self.running_mean.detach() + self.momentum * batch_mean.detach().squeeze()\n",
        "            self.running_var = (1 - self.momentum) * self.running_var.detach() + self.momentum * x.var([0, 2, 3], keepdim=True, unbiased=True).detach().squeeze()\n",
        "            # Thanks for correction in Piazza.\n",
        "\n",
        "            x = (x - batch_mean) / torch.sqrt(batch_var + self.eps)\n",
        "\n",
        "            pass\n",
        "        else:\n",
        "            x = (x - self.running_mean.view(1, self.num_features, 1, 1)) / \\\n",
        "                (self.running_var.view(1, self.num_features, 1, 1) + self.eps).sqrt()\n",
        "\n",
        "        x = x * self.weight.view(1, self.num_features, 1, 1) + self.bias.view(1, self.num_features, 1, 1)\n",
        "        return x\n"
      ],
      "metadata": {
        "id": "HoYJUj2BX1Y9"
      },
      "execution_count": null,
      "outputs": []
    },
    {
      "cell_type": "code",
      "source": [
        "passed = verify_batchnorm()\n",
        "print('Customize BatchNormalization 2d passed: ', passed)"
      ],
      "metadata": {
        "id": "bQWY0KPgZeTp",
        "colab": {
          "base_uri": "https://localhost:8080/"
        },
        "outputId": "f0a72ac1-00fb-455a-ea78-1fd78cdae49d"
      },
      "execution_count": null,
      "outputs": [
        {
          "output_type": "stream",
          "name": "stdout",
          "text": [
            "Customize BatchNormalization 2d passed:  True\n"
          ]
        }
      ]
    },
    {
      "cell_type": "code",
      "source": [
        "def cross_entropy(logits, labels):\n",
        "    \"\"\"\n",
        "    Args:\n",
        "    - logits: Tensor of logits (shape: [batch_size, num_classes]).\n",
        "    - labels: LongTensor of labels (shape: [batch_size]).\n",
        "\n",
        "    Returns:\n",
        "    - loss: the mean cross entropy loss.\n",
        "    \"\"\"\n",
        "    if not labels.dtype == torch.long:\n",
        "        raise ValueError(\"Labels dtype should be torch.long\")\n",
        "\n",
        "    # TODO: Cross-Entropy Loss\n",
        "    sm = torch.nn.functional.softmax(logits, dim=1)\n",
        "    p = torch.gather(sm, 1, labels.view(-1, 1))\n",
        "    loss = -torch.log(p).mean()\n",
        "    return loss"
      ],
      "metadata": {
        "id": "u87aoD-5oMlP"
      },
      "execution_count": null,
      "outputs": []
    },
    {
      "cell_type": "code",
      "source": [
        "class SGD(Optimizer):\n",
        "    def __init__(self, params, lr=0.01):\n",
        "        if lr < 0.0:\n",
        "            raise ValueError(\"Invalid learning rate: {}\".format(lr))\n",
        "\n",
        "        defaults = dict(lr=lr)\n",
        "        super(SGD, self).__init__(params, defaults)\n",
        "\n",
        "    def step(self, closure=None):\n",
        "        \"\"\"\n",
        "        Performs a single optimization step (parameter update).\n",
        "\n",
        "        Args:\n",
        "            closure (callable, optional): A closure that re-evaluates the model\n",
        "                and returns the loss. This is useful for certain types of\n",
        "                optimization algorithms that require re-evaluation of the loss.\n",
        "                For simple SGD, this is not typically used, i.e., closure=None.\n",
        "\n",
        "        Returns:\n",
        "            The loss returned by the closure if it is provided; otherwise, None.\n",
        "        \"\"\"\n",
        "        loss = None\n",
        "        if closure is not None:\n",
        "            loss = closure()\n",
        "\n",
        "        for group in self.param_groups:\n",
        "            for p in group['params']:\n",
        "                if p.grad is None:\n",
        "                    continue\n",
        "                # TODO: SGD\n",
        "                # Using SGD update rule for updating p.data\n",
        "                p.data = p.data - group['lr'] * p.grad\n",
        "\n",
        "        return loss"
      ],
      "metadata": {
        "id": "FTDlVTxKootN"
      },
      "execution_count": null,
      "outputs": []
    },
    {
      "cell_type": "code",
      "source": [
        "class SimpleCNN(nn.Module):\n",
        "    def __init__(self, num_classes=10):\n",
        "        super(SimpleCNN, self).__init__()\n",
        "\n",
        "        # TODO: initial CNN\n",
        "        self.conv1 = nn.Conv2d(3, 16, kernel_size = 2, padding = 1)\n",
        "        self.batch1 = BatchNorm2d(16)\n",
        "        self.relu1 = nn.ReLU()\n",
        "        self.maxpool1 = nn.MaxPool2d(kernel_size = 2, stride = 2)\n",
        "\n",
        "        self.conv2 = nn.Conv2d(16, 32, kernel_size = 2, padding = 1)\n",
        "        self.batch2 = BatchNorm2d(32)\n",
        "        self.relu2 = nn.ReLU()\n",
        "        self.maxpool2 = nn.MaxPool2d(kernel_size = 2, stride = 2)\n",
        "\n",
        "        self.conv3 = nn.Conv2d(32, 64, kernel_size = 2, padding = 1)\n",
        "        self.batch3 = BatchNorm2d(64)\n",
        "        self.relu3 = nn.ReLU()\n",
        "        self.maxpool3 = nn.MaxPool2d(kernel_size = 2, stride = 2)\n",
        "\n",
        "        input_dim = 64 * 4 * 4\n",
        "        hidden_dim = 512\n",
        "        num_classes = 10\n",
        "        p=0.25\n",
        "\n",
        "        self.classifier = nn.Linear(input_dim, hidden_dim)\n",
        "        self.reluc = nn.ReLU()\n",
        "        self.dropc = Dropout(p)\n",
        "        self.outc = nn.Linear(hidden_dim, num_classes)\n",
        "\n",
        "\n",
        "\n",
        "    def forward(self, x):\n",
        "        # TODO: feedforward function for CNN\n",
        "        x = self.conv1(x)\n",
        "        x = self.batch1(x)\n",
        "        x = self.relu1(x)\n",
        "        x = self.maxpool1(x)\n",
        "\n",
        "        x = self.conv2(x)\n",
        "        x = self.batch2(x)\n",
        "        x = self.relu2(x)\n",
        "        x = self.maxpool2(x)\n",
        "\n",
        "        x = self.conv3(x)\n",
        "        x = self.batch3(x)\n",
        "        x = self.relu3(x)\n",
        "        x = self.maxpool3(x)\n",
        "\n",
        "        x = x.view(x.size(0), -1)\n",
        "        x = self.classifier(x)\n",
        "        x = self.reluc(x)\n",
        "        x = self.dropc(x)\n",
        "        x = self.outc(x)\n",
        "\n",
        "        return x\n"
      ],
      "metadata": {
        "id": "67TqcInCnL51"
      },
      "execution_count": null,
      "outputs": []
    },
    {
      "cell_type": "code",
      "source": [
        "n_epochs = 50\n",
        "eval_interval = 10\n",
        "model = SimpleCNN()\n",
        "model.to(device)\n",
        "optimizer = SGD(model.parameters(), lr = 0.01)\n",
        "min_error = 1.0\n",
        "train_error_rates, val_error_rates = [], []\n",
        "running_loss, running_steps = 0., 0\n",
        "\n",
        "for epoch in tqdm(range(1, n_epochs + 1)):\n",
        "    model.train()\n",
        "    for imgs, labels in train_loader:\n",
        "        imgs, labels = imgs.to(device), labels.to(device)\n",
        "        logits = model(imgs)\n",
        "        optimizer.zero_grad()\n",
        "        loss = cross_entropy(logits, labels)\n",
        "        loss.backward()\n",
        "        optimizer.step()\n",
        "        running_loss += loss.item()\n",
        "        running_steps += 1\n",
        "\n",
        "    if epoch % eval_interval == 0:\n",
        "        train_error = 1 - eval_accuracy(model, train_loader, device)\n",
        "        val_error = 1 - eval_accuracy(model, val_loader, device)\n",
        "        train_error_rates.append(train_error)\n",
        "        val_error_rates.append(val_error)\n",
        "\n",
        "        # Append your error rates for plotting\n",
        "\n",
        "        print('Epoch: %d' % epoch)\n",
        "        print('Average training loss: %.3f' % (running_loss / running_steps))\n",
        "        print('Current validation error rate: %.3f' % (val_error * 100.0))\n",
        "        running_loss, running_steps = 0., 0\n",
        "        if val_error < min_error:\n",
        "            print('Val error rate is decreasing: {%.2f%%} -> {%.2f%%}' % (min_error * 100.0, val_error * 100.0))\n",
        "            torch.save(model.state_dict(), 'model_parameters.pth')\n",
        "            print('Model saved')\n",
        "\n",
        "        min_error = min(val_error, min_error)\n"
      ],
      "metadata": {
        "id": "2S2JeX8e4Lo5",
        "colab": {
          "base_uri": "https://localhost:8080/"
        },
        "outputId": "52ed0865-64fb-43cd-f699-f2f33a5aedec"
      },
      "execution_count": null,
      "outputs": [
        {
          "output_type": "stream",
          "name": "stderr",
          "text": [
            " 20%|██        | 10/50 [03:37<17:24, 26.12s/it]"
          ]
        },
        {
          "output_type": "stream",
          "name": "stdout",
          "text": [
            "Epoch: 10\n",
            "Average training loss: 1.496\n",
            "Current validation error rate: 45.220\n",
            "Val error rate is decreasing: {100.00%} -> {45.22%}\n",
            "Model saved\n"
          ]
        },
        {
          "output_type": "stream",
          "name": "stderr",
          "text": [
            " 40%|████      | 20/50 [07:13<12:59, 25.98s/it]"
          ]
        },
        {
          "output_type": "stream",
          "name": "stdout",
          "text": [
            "Epoch: 20\n",
            "Average training loss: 1.164\n",
            "Current validation error rate: 39.170\n",
            "Val error rate is decreasing: {45.22%} -> {39.17%}\n",
            "Model saved\n"
          ]
        },
        {
          "output_type": "stream",
          "name": "stderr",
          "text": [
            " 60%|██████    | 30/50 [10:46<08:36, 25.81s/it]"
          ]
        },
        {
          "output_type": "stream",
          "name": "stdout",
          "text": [
            "Epoch: 30\n",
            "Average training loss: 1.017\n",
            "Current validation error rate: 34.840\n",
            "Val error rate is decreasing: {39.17%} -> {34.84%}\n",
            "Model saved\n"
          ]
        },
        {
          "output_type": "stream",
          "name": "stderr",
          "text": [
            " 80%|████████  | 40/50 [14:18<04:16, 25.70s/it]"
          ]
        },
        {
          "output_type": "stream",
          "name": "stdout",
          "text": [
            "Epoch: 40\n",
            "Average training loss: 0.929\n",
            "Current validation error rate: 32.160\n",
            "Val error rate is decreasing: {34.84%} -> {32.16%}\n",
            "Model saved\n"
          ]
        },
        {
          "output_type": "stream",
          "name": "stderr",
          "text": [
            "100%|██████████| 50/50 [17:52<00:00, 21.45s/it]"
          ]
        },
        {
          "output_type": "stream",
          "name": "stdout",
          "text": [
            "Epoch: 50\n",
            "Average training loss: 0.862\n",
            "Current validation error rate: 31.060\n",
            "Val error rate is decreasing: {32.16%} -> {31.06%}\n",
            "Model saved\n"
          ]
        },
        {
          "output_type": "stream",
          "name": "stderr",
          "text": [
            "\n"
          ]
        }
      ]
    },
    {
      "cell_type": "code",
      "source": [
        "model.load_state_dict(torch.load('model_parameters.pth'))\n",
        "test_acc = eval_accuracy(model, test_loader, device)\n",
        "print('Test accuracy = %.2f%%' % (test_acc * 100))"
      ],
      "metadata": {
        "id": "3c0netYoAF6O",
        "colab": {
          "base_uri": "https://localhost:8080/"
        },
        "outputId": "2dbb4488-c56e-4ac2-a7d0-e44546b72172"
      },
      "execution_count": null,
      "outputs": [
        {
          "output_type": "stream",
          "name": "stdout",
          "text": [
            "Test accuracy = 69.19%\n"
          ]
        }
      ]
    },
    {
      "cell_type": "code",
      "source": [
        "plot_curves(train_error_rates, val_error_rates)"
      ],
      "metadata": {
        "id": "rKYdQRf8knlj",
        "colab": {
          "base_uri": "https://localhost:8080/",
          "height": 564
        },
        "outputId": "c79bef97-bc4b-4e81-f663-97238b2fceee"
      },
      "execution_count": null,
      "outputs": [
        {
          "output_type": "display_data",
          "data": {
            "text/plain": [
              "<Figure size 1000x600 with 1 Axes>"
            ],
            "image/png": "[encoded data removed]"
          },
          "metadata": {}
        }
      ]
    }
  ],
  "metadata": {
    "anaconda-cloud": {},
    "kernelspec": {
      "display_name": "Python 3",
      "name": "python3"
    },
    "language_info": {
      "codemirror_mode": {
        "name": "ipython",
        "version": 3
      },
      "file_extension": ".py",
      "mimetype": "text/x-python",
      "name": "python",
      "nbconvert_exporter": "python",
      "pygments_lexer": "ipython3",
      "version": "3.9.18"
    },
    "toc": {
      "base_numbering": 1,
      "nav_menu": {},
      "number_sections": true,
      "sideBar": true,
      "skip_h1_title": false,
      "title_cell": "Table of Contents",
      "title_sidebar": "Contents",
      "toc_cell": false,
      "toc_position": {},
      "toc_section_display": true,
      "toc_window_display": false
    },
    "varInspector": {
      "cols": {
        "lenName": 16,
        "lenType": 16,
        "lenVar": 40
      },
      "kernels_config": {
        "python": {
          "delete_cmd_postfix": "",
          "delete_cmd_prefix": "del ",
          "library": "var_list.py",
          "varRefreshCmd": "print(var_dic_list())"
        },
        "r": {
          "delete_cmd_postfix": ") ",
          "delete_cmd_prefix": "rm(",
          "library": "var_list.r",
          "varRefreshCmd": "cat(var_dic_list()) "
        }
      },
      "types_to_exclude": [
        "module",
        "function",
        "builtin_function_or_method",
        "instance",
        "_Feature"
      ],
      "window_display": false
    },
    "colab": {
      "provenance": [],
      "gpuType": "T4",
      "machine_shape": "hm",
      "include_colab_link": true
    },
    "accelerator": "GPU"
  },
  "nbformat": 4,
  "nbformat_minor": 0
}